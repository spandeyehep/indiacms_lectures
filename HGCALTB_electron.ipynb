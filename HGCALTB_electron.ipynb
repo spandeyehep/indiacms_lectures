{
 "cells": [
  {
   "cell_type": "code",
   "execution_count": 1,
   "id": "4a38d788",
   "metadata": {},
   "outputs": [],
   "source": [
    "import awkward as ak\n",
    "import pandas as pd\n",
    "import numpy as np\n",
    "\n",
    "import uproot\n",
    "#import ROOT\n",
    "\n",
    "import pickle\n",
    "\n",
    "import matplotlib.pyplot as plt\n",
    "from mpl_toolkits.mplot3d.art3d import Poly3DCollection, Line3DCollection\n",
    "from matplotlib.patches import RegularPolygon\n",
    "from matplotlib import colors\n",
    "\n",
    "from scipy.optimize import minimize\n",
    "from scipy.optimize import curve_fit"
   ]
  },
  {
   "cell_type": "markdown",
   "id": "22a49d86",
   "metadata": {},
   "source": [
    "## Loading the dataset and visualization"
   ]
  },
  {
   "cell_type": "markdown",
   "id": "e0dc1959",
   "metadata": {},
   "source": [
    "The TB simulations are run with a fixed energy of the positrons. First, we are going to look at a positron shower in the CE-E section of the HGCAL. The absorber layers of the CE-E section are alternating plates\n",
    "of either lead cladded with stainless steel or copper and copper-tungsten plates the active layers\n",
    "are all segmented silicon HsiI sensors. The CE-E section in the prototype has 28 layer, each corresponding to roughly one radiation length ($X_{0}$)."
   ]
  },
  {
   "cell_type": "markdown",
   "id": "05640374",
   "metadata": {},
   "source": [
    "We have skimmed the nTuples and stored them in pickle format. There are 5  quantities available for this exercise which are given as follows:\n",
    "\n",
    "- rechit_x: x-coordinates of the reconstructed hits in the HGCAL\n",
    "- rechit_y: y-coordinates of the reconstructed hits in the HGCAL\n",
    "- rechit_z: z-coordinates of the reconstructed hits in the HGCAL\n",
    "- rechit_energy: Calibrated energies of the hits in the HGCAL measured in the units of MIPs\n",
    "- trueBeamEnergy: The truth value of the energy of the incoming positron"
   ]
  },
  {
   "cell_type": "code",
   "execution_count": 2,
   "id": "a1b35049",
   "metadata": {},
   "outputs": [],
   "source": [
    "beamEnergy = 100\n",
    "pickles = ['rechit_x', 'rechit_y', 'rechit_z', 'rechit_energy', 'trueBeamEnergy']\n",
    "\n",
    "arrays = {}\n",
    "\n",
    "path_to_pickles = '/eos/user/b/bjoshi/hgcal_electron_simulations/{}'.format(beamEnergy)\n",
    "for p in pickles:\n",
    "    with open('{}/{}.pickle'.format(path_to_pickles, p), 'rb') as f0:\n",
    "        arrays[p]=pickle.load(f0)"
   ]
  },
  {
   "cell_type": "markdown",
   "id": "7c8c65e9",
   "metadata": {},
   "source": [
    "Now that we have loaded all the data, let check the distribution of hits in the first layer. For that, first let us take a look at the positions of diffrent layers in CE-E section in the longitudnal direction."
   ]
  },
  {
   "cell_type": "code",
   "execution_count": 3,
   "id": "89de2ae0",
   "metadata": {},
   "outputs": [],
   "source": [
    "layer_position = np.unique(ak.flatten(arrays['rechit_z']))[0:28] # get the positions of the layers"
   ]
  },
  {
   "cell_type": "code",
   "execution_count": 4,
   "id": "1366ca55",
   "metadata": {},
   "outputs": [
    {
     "name": "stdout",
     "output_type": "stream",
     "text": [
      "----------------------\n",
      " Layer \t| z coord (cm)\n",
      "----------------------\n",
      "  1:\t|   13.88\n",
      "  2:\t|   14.77\n",
      "  3:\t|   16.78\n",
      "  4:\t|   17.67\n",
      "  5:\t|   19.69\n",
      "  6:\t|   20.58\n",
      "  7:\t|   22.69\n",
      "  8:\t|   23.58\n",
      "  9:\t|   25.70\n",
      "  10:\t|   26.59\n",
      "  11:\t|   28.70\n",
      "  12:\t|   29.59\n",
      "  13:\t|   31.51\n",
      "  14:\t|   32.40\n",
      "  15:\t|   34.31\n",
      "  16:\t|   35.20\n",
      "  17:\t|   37.12\n",
      "  18:\t|   38.01\n",
      "  19:\t|   39.92\n",
      "  20:\t|   40.81\n",
      "  21:\t|   42.91\n",
      "  22:\t|   44.04\n",
      "  23:\t|   46.41\n",
      "  24:\t|   47.54\n",
      "  25:\t|   49.68\n",
      "  26:\t|   50.69\n",
      "  27:\t|   52.88\n",
      "  28:\t|   53.90\n"
     ]
    }
   ],
   "source": [
    "print('----------------------')\n",
    "print(' Layer \\t| z coord (cm)')\n",
    "print('----------------------')\n",
    "for il,l in enumerate(layer_position):\n",
    "    print('  {}:\\t|   {:0.2f}'.format(il+1, l))"
   ]
  },
  {
   "cell_type": "markdown",
   "id": "ce0e3b52",
   "metadata": {},
   "source": [
    "#### **Geometry of a cassette in CE-E**"
   ]
  },
  {
   "cell_type": "markdown",
   "id": "2a47fe21",
   "metadata": {},
   "source": [
    "<img src=\"cee_prototype_cassette.png\" width=\"500px\"/>"
   ]
  },
  {
   "cell_type": "code",
   "execution_count": 5,
   "id": "2ceaf008",
   "metadata": {
    "scrolled": false
   },
   "outputs": [
    {
     "data": {
      "text/plain": [
       "<Figure size 432x288 with 0 Axes>"
      ]
     },
     "metadata": {},
     "output_type": "display_data"
    },
    {
     "data": {
      "image/png": "[encoded data removed]",
      "text/plain": [
       "<Figure size 475.2x475.2 with 1 Axes>"
      ]
     },
     "metadata": {
      "needs_background": "light"
     },
     "output_type": "display_data"
    }
   ],
   "source": [
    "xarray = ak.flatten(arrays['rechit_x'][arrays['rechit_z']==layer_position[0]])\n",
    "yarray = ak.flatten(arrays['rechit_y'][arrays['rechit_z']==layer_position[0]])\n",
    "\n",
    "hit_map = pd.DataFrame(data = {'rechit_x': xarray, 'rechit_y':yarray})\n",
    "\n",
    "# generate the permutations of the grid\n",
    "tmp = hit_map.groupby(['rechit_x','rechit_y']).size()\n",
    "sensor_xy = []\n",
    "for key_ in tmp.keys():\n",
    "    sensor_xy.append(key_)\n",
    "\n",
    "sensor_density = np.array(tmp.values)\n",
    "sensor_density = sensor_density/sensor_density.max()\n",
    "\n",
    "# generate hexagonal grid with sensor as the center\n",
    "plt.clf()\n",
    "fig, ax = plt.subplots(1)\n",
    "fig.set_figheight(6.6)\n",
    "fig.set_figwidth(6.6)\n",
    "ax.set_aspect('equal')\n",
    "\n",
    "for ic, c in enumerate(sensor_xy):\n",
    "    # fix radius here\n",
    "    hexagon = RegularPolygon((c[0], c[1]), numVertices=6, edgecolor='none',\n",
    "                             radius=0.6, alpha=sensor_density[ic], orientation=np.pi/6)\n",
    "    ax.add_patch(hexagon)\n",
    "plt.xlim([-8, 6])\n",
    "plt.ylim([-6, 8])\n",
    "plt.xlabel('X (cm)')\n",
    "plt.ylabel('Y (cm)')\n",
    "plt.show()"
   ]
  },
  {
   "cell_type": "markdown",
   "id": "2441266e",
   "metadata": {},
   "source": [
    "### **Exercise (1)**:<br>\n",
    "&emsp;(i) Make a similar plot of the tranverse distribution of hits in layer 10 and other layers.<br>\n",
    "&emsp;(ii) Make a 3D event display showing the hits scattered in (x,y,z) coordinates. (**hint**: You can use plotly for rendering 3D displays)"
   ]
  },
  {
   "cell_type": "markdown",
   "id": "ce06daf0",
   "metadata": {},
   "source": [
    "## Shower Depth\n",
    "Now, we are going to take a look at the distribution of hits in the shower as a function of the depth of the calorimeter. The higher the energy of the incoming particle, the deeper the is the shower. First, we group the hits by their layers in each event and calculate the mean energy and the error associated with it."
   ]
  },
  {
   "cell_type": "code",
   "execution_count": 6,
   "id": "8bc9ad16",
   "metadata": {},
   "outputs": [],
   "source": [
    "sum_e_layers = np.array([ ak.sum(arrays['rechit_energy'][((arrays['rechit_z']==lz)*(arrays['rechit_energy']>0.5))], axis=1) for lz in layer_position ])\n",
    "nevents = sum_e_layers.shape[1]\n",
    "totalEnergy = np.sum(sum_e_layers.T, axis=1)\n",
    "\n",
    "meanEnergy = []\n",
    "errEnergy = []\n",
    "for lz in range(28):\n",
    "    meanEnergy.append(sum_e_layers[lz,:].mean())\n",
    "    errEnergy.append(sum_e_layers[lz,:].std()/np.sqrt(nevents))"
   ]
  },
  {
   "cell_type": "code",
   "execution_count": 7,
   "id": "9fe3bec3",
   "metadata": {},
   "outputs": [
    {
     "data": {
      "image/png": "[encoded data removed]",
      "text/plain": [
       "<Figure size 475.2x475.2 with 1 Axes>"
      ]
     },
     "metadata": {
      "needs_background": "light"
     },
     "output_type": "display_data"
    }
   ],
   "source": [
    "plt.figure(figsize=(6.6,6.6))\n",
    "plt.errorbar(np.arange(1,29,1), meanEnergy, yerr=errEnergy)\n",
    "plt.ylabel('<Energy> (MIPs)')\n",
    "plt.xlabel('Layer')\n",
    "plt.title('Layer-wise energy distribution for {} GeV positrons'.format(beamEnergy))\n",
    "plt.ylim(0,1.05*max(meanEnergy))\n",
    "plt.xlim(1, 28)\n",
    "\n",
    "max_idx = meanEnergy.index(max(meanEnergy))\n",
    "max_layer = np.arange(1,29,1)[max_idx]\n",
    "plt.plot((max_layer,max_layer), (0, 1.05*max(meanEnergy)), '--', c='tab:blue')\n",
    "plt.show()"
   ]
  },
  {
   "cell_type": "markdown",
   "id": "0a259716",
   "metadata": {},
   "source": [
    "An better way to understand the energy deposition is to plot the fraction of energy deposit as a function of the radiation lengths. For, that we can use the conversion table \"cassette_info_cee.csv\". The 28 layers are grouped into 14 different cassettes. The third column (dESi) gives the peak value of the simulated energy loss in the si sensor by a 150 GeV muon. The fourth column (z) and the fifth column (dz) gives the calorimeter depth before each sensor and the thickness between two sensors in units of radiation lengths. The last two columns give the enrgy loss in the absorber and the combined mean loss in absorber and silicon detector. For details, refer to: https://arxiv.org/pdf/2111.06855.pdf"
   ]
  },
  {
   "cell_type": "code",
   "execution_count": 8,
   "id": "ab5bb545",
   "metadata": {
    "scrolled": true
   },
   "outputs": [
    {
     "data": {
      "text/html": [
       "<div>\n",
       "<style scoped>\n",
       "    .dataframe tbody tr th:only-of-type {\n",
       "        vertical-align: middle;\n",
       "    }\n",
       "\n",
       "    .dataframe tbody tr th {\n",
       "        vertical-align: top;\n",
       "    }\n",
       "\n",
       "    .dataframe thead th {\n",
       "        text-align: right;\n",
       "    }\n",
       "</style>\n",
       "<table border=\"1\" class=\"dataframe\">\n",
       "  <thead>\n",
       "    <tr style=\"text-align: right;\">\n",
       "      <th></th>\n",
       "      <th>cas</th>\n",
       "      <th>layer</th>\n",
       "      <th>dESi</th>\n",
       "      <th>z</th>\n",
       "      <th>dz</th>\n",
       "      <th>dEAbs</th>\n",
       "      <th>mean_dE</th>\n",
       "    </tr>\n",
       "  </thead>\n",
       "  <tbody>\n",
       "    <tr>\n",
       "      <th>0</th>\n",
       "      <td>1</td>\n",
       "      <td>1</td>\n",
       "      <td>0.085</td>\n",
       "      <td>1.00</td>\n",
       "      <td>1.00</td>\n",
       "      <td>10.2</td>\n",
       "      <td>11.25</td>\n",
       "    </tr>\n",
       "    <tr>\n",
       "      <th>1</th>\n",
       "      <td>1</td>\n",
       "      <td>2</td>\n",
       "      <td>0.085</td>\n",
       "      <td>1.98</td>\n",
       "      <td>0.98</td>\n",
       "      <td>12.3</td>\n",
       "      <td>9.85</td>\n",
       "    </tr>\n",
       "    <tr>\n",
       "      <th>2</th>\n",
       "      <td>2</td>\n",
       "      <td>3</td>\n",
       "      <td>0.085</td>\n",
       "      <td>2.92</td>\n",
       "      <td>0.94</td>\n",
       "      <td>7.4</td>\n",
       "      <td>9.85</td>\n",
       "    </tr>\n",
       "    <tr>\n",
       "      <th>3</th>\n",
       "      <td>2</td>\n",
       "      <td>4</td>\n",
       "      <td>0.085</td>\n",
       "      <td>3.90</td>\n",
       "      <td>0.98</td>\n",
       "      <td>12.3</td>\n",
       "      <td>9.85</td>\n",
       "    </tr>\n",
       "    <tr>\n",
       "      <th>4</th>\n",
       "      <td>3</td>\n",
       "      <td>5</td>\n",
       "      <td>0.085</td>\n",
       "      <td>4.84</td>\n",
       "      <td>0.94</td>\n",
       "      <td>7.4</td>\n",
       "      <td>9.85</td>\n",
       "    </tr>\n",
       "  </tbody>\n",
       "</table>\n",
       "</div>"
      ],
      "text/plain": [
       "   cas  layer   dESi     z    dz  dEAbs  mean_dE\n",
       "0    1      1  0.085  1.00  1.00   10.2    11.25\n",
       "1    1      2  0.085  1.98  0.98   12.3     9.85\n",
       "2    2      3  0.085  2.92  0.94    7.4     9.85\n",
       "3    2      4  0.085  3.90  0.98   12.3     9.85\n",
       "4    3      5  0.085  4.84  0.94    7.4     9.85"
      ]
     },
     "execution_count": 8,
     "metadata": {},
     "output_type": "execute_result"
    }
   ],
   "source": [
    "cassette_info = pd.read_csv('cassette_info_cee.csv', delimiter='\\t')\n",
    "cassette_info.head()"
   ]
  },
  {
   "cell_type": "code",
   "execution_count": 9,
   "id": "ce986cab",
   "metadata": {},
   "outputs": [
    {
     "data": {
      "image/png": "[encoded data removed]",
      "text/plain": [
       "<Figure size 475.2x475.2 with 1 Axes>"
      ]
     },
     "metadata": {
      "needs_background": "light"
     },
     "output_type": "display_data"
    }
   ],
   "source": [
    "plt.figure(figsize=(6.6,6.6))\n",
    "normMeanEnergy = meanEnergy/max(meanEnergy)\n",
    "plt.errorbar(cassette_info['z'], normMeanEnergy, yerr=errEnergy/max(meanEnergy))\n",
    "plt.ylabel('<Energy> (MIPs)')\n",
    "plt.xlabel('Depth ($X_{0}$)')\n",
    "plt.title('Layer-wise energy distribution for {} GeV electrons'.format(beamEnergy))\n",
    "plt.ylim(0,1.05*max(normMeanEnergy))\n",
    "max_idx = meanEnergy.index(max(meanEnergy))\n",
    "max_z = cassette_info['z'][max_idx]\n",
    "mean_depth = np.average(cassette_info['z'].values, weights=normMeanEnergy)\n",
    "plt.plot((mean_depth, mean_depth), (0, 1.05*max(normMeanEnergy)), '--', c='tab:blue')\n",
    "plt.xlim(1.00,27.28)\n",
    "plt.show()"
   ]
  },
  {
   "cell_type": "markdown",
   "id": "897e62d5",
   "metadata": {},
   "source": [
    "### **Exercise (2):** <br>\n",
    "Make layer-wise energy distribution for different input beam energies, i.e. [20, 30, 50, 80, 100, 120, 150, 200, 250, 300]. Then, for each energy get measure the shower depth and plot them on a log scale."
   ]
  },
  {
   "cell_type": "code",
   "execution_count": null,
   "id": "715d96b8",
   "metadata": {},
   "outputs": [],
   "source": [
    "# energyList = [20, 30, 50, 80, 100, 120, 150, 200, 250, 300]\n",
    "# def get_mean_energy_deposits(beamEnergy=100):\n",
    "#    '''\n",
    "#    Add your code here\n",
    "#    '''\n",
    "#   return (meanEnergy/max(meanEnergy), errEnergy/max(meanEnergy))\n",
    "# plt.figure(figsize=(6.6,6.6))\n",
    "# cmap = plt.get_cmap('plasma')\n",
    "# cols = cmap.colors\n",
    "# carray = []\n",
    "# for i in range(len(energyList)):\n",
    "#     carray.append(cols[int(256*float(i)/float(len(energyList))])\n",
    "# plt.clf()\n",
    "# plt.figure(figsize=(6.6,6.6))\n",
    "# '''\n",
    "# plot here\n",
    "# '''\n",
    "# plt.ylabel('<Energy> (MIPs)')\n",
    "# plt.xlabel('Depth ($X_{0}$)')\n",
    "# plt.title('Layer-wise energy distribution')\n",
    "# plt.legend(loc='upper right')\n",
    "# plt.ylim(0,1.05)\n",
    "# plt.xlim(1.00,27.28)\n",
    "# plt.show()"
   ]
  },
  {
   "cell_type": "markdown",
   "id": "ca2c3eea",
   "metadata": {},
   "source": [
    "#### What you should expect"
   ]
  },
  {
   "cell_type": "markdown",
   "id": "7ed0697f",
   "metadata": {},
   "source": [
    "**Figure (1):** Distribution of layer-wise energies for different energies of input positron energies"
   ]
  },
  {
   "cell_type": "markdown",
   "id": "f7e3081f",
   "metadata": {},
   "source": [
    "<figure>\n",
    "   <td style='text-align:center;'>\n",
    "       <img src=\"electron_energy_distribution_example.png\" style=\"width:100%\">\n",
    "   </td>\n",
    "</figure>"
   ]
  },
  {
   "cell_type": "markdown",
   "id": "e1744631",
   "metadata": {},
   "source": [
    "**Figure (2):** Depth of the shower as a function of beam energy on a logarithmic scale.<br>\n",
    "**Question:** Why is it linear?"
   ]
  },
  {
   "cell_type": "markdown",
   "id": "a26a8208",
   "metadata": {},
   "source": [
    "<img src=\"electron_shower_depth_example.png\"/>"
   ]
  },
  {
   "cell_type": "markdown",
   "id": "573672cf",
   "metadata": {},
   "source": [
    "## Energy Resolution"
   ]
  },
  {
   "cell_type": "markdown",
   "id": "52380004",
   "metadata": {},
   "source": [
    "Energy resolution of a calorimeter quantifies it's ability to precisely measure the energy of incoming particles.\n",
    "For the HGCAL prototype, the resolution can be defined as follows:<br>\n",
    "$$\\dfrac{\\sigma}{E} = \\dfrac{a}{\\sqrt(E)}+c$$<br>\n",
    "where a is the *stochastic* term and c is the constant term. The *stochastic* term reflects the fluctuations in the number of signal generating processes. Since the number of photons/electrons generated in each absorber layer is a statistical process, the measured energy also varies accordingly. The *constant* term arises from the imperfections in the detector. These include, errors is channel to channel intercalibrations, differences in the dimensions of the detector material, energy lost in the dead detector material and impoerfections in logitudnal confinement of the shower. A lower *constant* term is a \"hallmark\" of a good calorimeter.<br><br>\n",
    "Note: Another *noise* term is added to the resolution to account for the effects from pile-up."
   ]
  },
  {
   "cell_type": "markdown",
   "id": "dd229821",
   "metadata": {},
   "source": [
    "### Calculating the resolution\n",
    "\n",
    "We assume that the energy distrbution of all rechits within an event follows a Gaussian distribution with mean as the energy of the incoming particle. The ratio of standard deviation to the mean gives us the value of the resolution. In the following exmaple we make a simple distribution of the sum of reconstructed hit energies produced by a 100 GeV positron. The distribution will be made in the units of MIPs, but since we are only taking the ratio, the unit doesn't matter in this case."
   ]
  },
  {
   "cell_type": "code",
   "execution_count": 10,
   "id": "d32146dd",
   "metadata": {},
   "outputs": [],
   "source": [
    "def GausPDF(x, *c):\n",
    "    '''\n",
    "    Gaussian PDF for fitting the curve\n",
    "    '''\n",
    "    A = c[0] # fraction of crystalball\n",
    "    #define function parameters\n",
    "    mu = c[1]\n",
    "    sigma = c[2]\n",
    "    z = (x-mu)/sigma\n",
    "    G = A*(1/np.sqrt(2*(sigma**2)*np.pi))*np.exp(-(z**2)/2)\n",
    "    return G"
   ]
  },
  {
   "cell_type": "markdown",
   "id": "da8aa2dd",
   "metadata": {},
   "source": [
    "Using the *curve_fit* package from *SciPy* library, we find the best fit of the mean and std. deviation for the data."
   ]
  },
  {
   "cell_type": "code",
   "execution_count": 11,
   "id": "6a5c2a29",
   "metadata": {
    "scrolled": false
   },
   "outputs": [
    {
     "data": {
      "text/plain": [
       "<Figure size 432x288 with 0 Axes>"
      ]
     },
     "metadata": {},
     "output_type": "display_data"
    },
    {
     "data": {
      "image/png": "[encoded data removed]",
      "text/plain": [
       "<Figure size 432x432 with 1 Axes>"
      ]
     },
     "metadata": {
      "needs_background": "light"
     },
     "output_type": "display_data"
    }
   ],
   "source": [
    "earray = ak.sum(arrays['rechit_energy'], axis=1)\n",
    "earray = earray[earray>0]\n",
    "\n",
    "nsigma=3.0\n",
    "plt.clf()\n",
    "plt.figure(figsize=(6,6))\n",
    "mean_ = np.mean(earray)\n",
    "std_ = np.std(earray)\n",
    "\n",
    "# plot data\n",
    "data_range = (mean_-2e3, mean_+2e3)\n",
    "M = np.linspace(data_range[0], data_range[1], 100)\n",
    "\n",
    "data_hist2_array = plt.hist(earray,\n",
    "         histtype='step', color='w', linewidth=0,\n",
    "         range=data_range, bins=50)\n",
    "\n",
    "xarray = (data_hist2_array[1][1:]+data_hist2_array[1][:-1])/2\n",
    "yarray = data_hist2_array[0]\n",
    "\n",
    "plt.scatter(xarray, yarray, marker='o', c='black', s=40)\n",
    "plt.bar(xarray, yarray, width=0.05, color='none', yerr=np.sqrt(yarray))\n",
    "\n",
    "results = curve_fit(GausPDF, xarray, yarray, \n",
    "                p0=(max(yarray), mean_, std_))\n",
    "E = yarray-np.array([ GausPDF(m, *results[0]) for m in xarray])\n",
    "E = E/(np.sqrt(yarray+0.001))\n",
    "chi2 = np.sqrt(sum(E**2)/(len(E)-1))\n",
    "\n",
    "plt.plot(M, [ GausPDF(m, *results[0]) for m in M], linestyle='dashed')\n",
    "\n",
    "# plot data\n",
    "plt.xlim(data_range)\n",
    "plt.ylabel('Events (noamlized)', size=14)\n",
    "plt.xlabel('Measured Energy (MIP)', size=14)\n",
    "stat_text = '''\n",
    "A = {:0.2f}\n",
    "$\\mu$ = {:0.2f}\n",
    "$\\sigma$ = {:0.2f}\n",
    "$\\chi^2/ndf$ = {:0.2f}\n",
    "'''.format(results[0][0], results[0][1], abs(results[0][2]), chi2)\n",
    "stat_text_box = plt.text(x=mean_+0.25*nsigma*std_, y=0.7*max(yarray),\n",
    "    s=stat_text,\n",
    "    fontsize=12,\n",
    "    fontfamily='sans-serif',\n",
    "    horizontalalignment='left', \n",
    "    verticalalignment='bottom')\n",
    "plt.title('E = {} GeV'.format(beamEnergy))\n",
    "plt.show()"
   ]
  },
  {
   "cell_type": "markdown",
   "id": "2cba175a",
   "metadata": {},
   "source": [
    "### **Exercise (3)**:<br>\n",
    "&emsp;(i) Plot distributions for all the energies ranging from [20, 300]. Determine resolution by fitting each distribution separately with a Gaussian PDF.<br>\n",
    "&emsp;(ii) Fit the resolution as a function of Beam Energy using the formula of the resolution mentioned at the begining of this section.<br>\n",
    "&emsp;(iii) Find the *stochastic* and *constant* terms for CE-E section of the HGCAL prototype."
   ]
  }
 ],
 "metadata": {
  "kernelspec": {
   "display_name": "Python 3",
   "language": "python",
   "name": "python3"
  },
  "language_info": {
   "codemirror_mode": {
    "name": "ipython",
    "version": 3
   },
   "file_extension": ".py",
   "mimetype": "text/x-python",
   "name": "python",
   "nbconvert_exporter": "python",
   "pygments_lexer": "ipython3",
   "version": "3.9.12"
  }
 },
 "nbformat": 4,
 "nbformat_minor": 5
}
